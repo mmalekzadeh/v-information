{
 "cells": [
  {
   "cell_type": "markdown",
   "metadata": {},
   "source": [
    "![](figures/def_4.png)\n",
    "[Source](https://openreview.net/forum?id=r1eBeyHFDH)"
   ]
  },
  {
   "cell_type": "code",
   "execution_count": 1,
   "metadata": {},
   "outputs": [],
   "source": [
    "import numpy as np\n",
    "from scipy.stats import norm\n",
    "import matplotlib.pyplot as plt"
   ]
  },
  {
   "cell_type": "code",
   "execution_count": 2,
   "metadata": {},
   "outputs": [],
   "source": [
    "def get_dataset(classes, features, samples):\n",
    "    X = np.array([[np.random.normal(c, .5, features) for _ in range(samples)] \n",
    "                  for c in range(classes)]).reshape(samples*classes,features)\n",
    "    Y = np.array([[c]*samples for c in range(classes)]).reshape(samples*classes)\n",
    "    return X, Y"
   ]
  },
  {
   "cell_type": "code",
   "execution_count": 3,
   "metadata": {},
   "outputs": [
    {
     "name": "stdout",
     "output_type": "stream",
     "text": [
      "Dataset: (64, 8) (64,)\n"
     ]
    },
    {
     "data": {
      "text/plain": [
       "<matplotlib.legend.Legend at 0x12f531a20>"
      ]
     },
     "execution_count": 3,
     "metadata": {},
     "output_type": "execute_result"
    },
    {
     "data": {
      "image/png": "[encoded data removed]",
      "text/plain": [
       "<Figure size 1080x360 with 1 Axes>"
      ]
     },
     "metadata": {
      "needs_background": "light"
     },
     "output_type": "display_data"
    }
   ],
   "source": [
    "classes = 4\n",
    "features = 8\n",
    "samples_per_class = 16\n",
    "\n",
    "X, Y = get_dataset(classes, features, samples_per_class)\n",
    "print(\"Dataset:\", X.shape, Y.shape)\n",
    "\n",
    "\n",
    "plt.figure(figsize=(15,5))\n",
    "plt.plot(X.mean(1), \"s\", label=\"Mean Value of each Sample\")\n",
    "plt.plot(Y, \"o\", label= \"Class ID for each sample\")\n",
    "plt.xlabel(\"X\",size =20)\n",
    "plt.ylabel(\"Y\",size =20)\n",
    "plt.legend()"
   ]
  },
  {
   "cell_type": "code",
   "execution_count": 4,
   "metadata": {},
   "outputs": [],
   "source": [
    "def get_best_estimation_of_probability(Y):\n",
    "    _u, _l = np.unique(Y, return_inverse=True)    \n",
    "    return np.histogram(_l, bins=np.arange(_u.size+1))[0][_l] / _l.size\n",
    "\n",
    "def get_best_estimation_of_conditional_probability(X,Y):\n",
    "    return np.array([norm(loc=X[i].mean(), scale=X[i].std()).pdf(np.unique(Y))[Y[i]] for i in range(X.shape[0])])\n",
    "\n",
    "def get_v_entropy(Y):\n",
    "    f_null_Y = get_best_estimation_of_probability(Y)\n",
    "    log_value = -np.log(f_null_Y)\n",
    "    inf_value = log_value.sum()/len(Y)\n",
    "    return inf_value\n",
    "\n",
    "def get_cond_v_entropy(X, Y):\n",
    "    f_X_Y = get_best_estimation_of_conditional_probability(X,Y)\n",
    "    log_value = -np.log(f_X_Y)\n",
    "    inf_value = log_value.sum()/len(Y)\n",
    "    return inf_value"
   ]
  },
  {
   "cell_type": "code",
   "execution_count": 5,
   "metadata": {},
   "outputs": [
    {
     "name": "stdout",
     "output_type": "stream",
     "text": [
      "First Term:  1.3862943611198906\n",
      "Second Term:  0.19279600634638855\n",
      "v_information (X, Y; dataset): 1.193498354773502\n"
     ]
    }
   ],
   "source": [
    "\n",
    "v_entropy = get_v_entropy(Y)\n",
    "print(\"First Term: \",v_entropy)\n",
    "\n",
    "cond_v_entropy = get_cond_v_entropy(X, Y)\n",
    "print(\"Second Term: \", cond_v_entropy)\n",
    "\n",
    "print(\"v_information (X, Y; dataset):\", v_entropy - cond_v_entropy)"
   ]
  }
 ],
 "metadata": {
  "kernelspec": {
   "display_name": "Python 3",
   "language": "python",
   "name": "python3"
  },
  "language_info": {
   "codemirror_mode": {
    "name": "ipython",
    "version": 3
   },
   "file_extension": ".py",
   "mimetype": "text/x-python",
   "name": "python",
   "nbconvert_exporter": "python",
   "pygments_lexer": "ipython3",
   "version": "3.7.3"
  }
 },
 "nbformat": 4,
 "nbformat_minor": 2
}
