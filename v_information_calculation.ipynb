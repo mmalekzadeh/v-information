{
 "cells": [
  {
   "cell_type": "markdown",
   "metadata": {},
   "source": [
    "![](figures/def_4.png)\n",
    "[Source](https://openreview.net/forum?id=r1eBeyHFDH)"
   ]
  },
  {
   "cell_type": "code",
   "execution_count": 1,
   "metadata": {},
   "outputs": [],
   "source": [
    "import numpy as np\n",
    "from scipy.stats import norm\n",
    "import matplotlib.pyplot as plt"
   ]
  },
  {
   "cell_type": "markdown",
   "metadata": {},
   "source": [
    "#### Dataset Distribution\n",
    "- Let us assume we have $J$ data samples and each sample includes $I$ features.\n",
    "- Let us consider a synthetic dataset of pairs $(X^j \\in \\mathbb{R}^N,y^j \\in \\mathbb{N})$.\n",
    "- Let us assume each $x^j_i \\in \\mathbb{R}$ comes from a normal distribution of the form $\\mathcal{N}(\\mu^j, \\sigma^j)$"
   ]
  },
  {
   "cell_type": "code",
   "execution_count": 2,
   "metadata": {},
   "outputs": [],
   "source": [
    "def get_dataset(mus, sigmas, features, samples):\n",
    "    X = np.array([[np.random.normal(mu, sigma, features) for _ in range(samples)] \n",
    "                  for mu, sigma in zip(mus, sigmas)]).reshape(samples*len(mus),features)\n",
    "    Y = np.array([[mu]*samples for mu in mus]).reshape(samples*len(mus))\n",
    "    return X, Y.astype(int)"
   ]
  },
  {
   "cell_type": "code",
   "execution_count": 3,
   "metadata": {},
   "outputs": [
    {
     "name": "stdout",
     "output_type": "stream",
     "text": [
      "Dataset: (48, 8) (48,)\n"
     ]
    }
   ],
   "source": [
    "mus = [0, 1, 2, 3]\n",
    "sigmas = [.25, .75, .25, .75]\n",
    "features = 8\n",
    "samples_per_class = 12\n",
    "\n",
    "X, Y = get_dataset(mus, sigmas, features, samples_per_class)\n",
    "print(\"Dataset:\", X.shape, Y.shape)"
   ]
  },
  {
   "cell_type": "code",
   "execution_count": 4,
   "metadata": {},
   "outputs": [
    {
     "name": "stdout",
     "output_type": "stream",
     "text": [
      "Sample Data: [0.33660308 1.16815777 1.33699732 1.16239629 1.80661401 1.11993671\n",
      " 2.21722742 1.71186323] \n",
      " Label: 1\n"
     ]
    }
   ],
   "source": [
    "print(\"Sample Data:\",X[20], \"\\n Label:\", Y[20])"
   ]
  },
  {
   "cell_type": "code",
   "execution_count": 5,
   "metadata": {},
   "outputs": [
    {
     "data": {
      "text/plain": [
       "<matplotlib.legend.Legend at 0x132f60cf8>"
      ]
     },
     "execution_count": 5,
     "metadata": {},
     "output_type": "execute_result"
    },
    {
     "data": {
      "image/png": "[encoded data removed]",
      "text/plain": [
       "<Figure size 1440x360 with 1 Axes>"
      ]
     },
     "metadata": {
      "needs_background": "light"
     },
     "output_type": "display_data"
    }
   ],
   "source": [
    "\n",
    "\n",
    "plt.figure(figsize=(20,5))\n",
    "for i in range(features):\n",
    "    if i == 0:\n",
    "        plt.plot(X[:,i], \"bo\", markersize=5, label = \"Sample Data Points\")\n",
    "    else:\n",
    "        plt.plot(X[:,i], \"bo\", markersize=5)\n",
    "plt.plot((range(len(X)),range(len(X))),(X.min(1), X.max(1)),c='black')\n",
    "plt.plot(Y, \"r*\", label= \"Class ID for Each Sample\", markersize=10)\n",
    "\n",
    "plt.xlabel(\"X\",size =20)\n",
    "plt.ylabel(\"Y\",size =20)\n",
    "plt.legend()"
   ]
  },
  {
   "cell_type": "code",
   "execution_count": 6,
   "metadata": {},
   "outputs": [],
   "source": [
    "def get_best_estimation_of_probability(Y):\n",
    "    ## Uniform prior\n",
    "    _u, _l = np.unique(Y, return_inverse=True)    \n",
    "    return np.histogram(_l, bins=np.arange(_u.size+1))[0][_l] / _l.size\n",
    "\n",
    "def get_best_estimation_of_conditional_probability(X,Y):\n",
    "    ## We assume having a sample data point, we can use its mean and std \n",
    "    ## as the emperical parameters to calcualte probability of each label.\n",
    "    return np.array([norm(loc=X[i].mean(), scale=X[i].std()).pdf(np.unique(Y))[Y[i]] for i in range(X.shape[0])])\n",
    "\n",
    "def get_v_entropy(Y):\n",
    "    f_null_Y = get_best_estimation_of_probability(Y)\n",
    "    log_value = -np.log(f_null_Y)\n",
    "    inf_value = log_value.sum()/len(Y)\n",
    "    return inf_value\n",
    "\n",
    "def get_cond_v_entropy(X, Y):\n",
    "    f_X_Y = get_best_estimation_of_conditional_probability(X,Y)\n",
    "    log_value = -np.log(f_X_Y)\n",
    "    inf_value = log_value.sum()/len(Y)\n",
    "    return inf_value"
   ]
  },
  {
   "cell_type": "code",
   "execution_count": 7,
   "metadata": {},
   "outputs": [
    {
     "name": "stdout",
     "output_type": "stream",
     "text": [
      "First Term:  1.3862943611198906\n",
      "Second Term:  0.09837803998214038\n",
      "v_information (X, Y; dataset): 1.2879163211377502\n"
     ]
    }
   ],
   "source": [
    "\n",
    "v_entropy = get_v_entropy(Y)\n",
    "print(\"First Term: \",v_entropy)\n",
    "\n",
    "cond_v_entropy = get_cond_v_entropy(X, Y)\n",
    "print(\"Second Term: \", cond_v_entropy)\n",
    "\n",
    "print(\"v_information (X, Y; dataset):\", v_entropy - cond_v_entropy)"
   ]
  },
  {
   "cell_type": "markdown",
   "metadata": {},
   "source": [
    "* About `get_best_estimation_of_probability`.\n",
    "    - We assume that when there is no input, then we use our prior knowledge, which here is uniform. Similar to what you said, we assume empirical histogram of the labels shows the prior\n",
    "\n",
    "* About `get_best_estimation_of_conditional_probability`.\n",
    "    - We assume that we know that data are coming from a normal distribution, but we don't know mean and variance of the data.\n",
    "    - X is coming from a Gaussian distribution and Y is the mean of the Gaussian distribution that generates data.\n",
    "    - We assume  the predictive family  is all the Gaussian distributions that can be used to predict the Y.\n",
    "    - So,  We use the empirical mean and variance of the current sample to calculate the probability for each label."
   ]
  },
  {
   "cell_type": "code",
   "execution_count": null,
   "metadata": {},
   "outputs": [],
   "source": []
  }
 ],
 "metadata": {
  "kernelspec": {
   "display_name": "Python 3",
   "language": "python",
   "name": "python3"
  },
  "language_info": {
   "codemirror_mode": {
    "name": "ipython",
    "version": 3
   },
   "file_extension": ".py",
   "mimetype": "text/x-python",
   "name": "python",
   "nbconvert_exporter": "python",
   "pygments_lexer": "ipython3",
   "version": "3.7.3"
  }
 },
 "nbformat": 4,
 "nbformat_minor": 2
}
